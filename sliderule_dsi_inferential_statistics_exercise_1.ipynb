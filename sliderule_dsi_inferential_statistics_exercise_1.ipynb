{
 "cells": [
  {
   "cell_type": "markdown",
   "metadata": {},
   "source": [
    "# What is the True Normal Human Body Temperature? \n",
    "\n",
    "#### Background\n",
    "\n",
    "The mean normal body temperature was held to be 37$^{\\circ}$C or 98.6$^{\\circ}$F for more than 120 years since it was first conceptualized and reported by Carl Wunderlich in a famous 1868 book. But, is this value statistically correct?"
   ]
  },
  {
   "cell_type": "markdown",
   "metadata": {},
   "source": [
    "<h3>Exercises</h3>\n",
    "\n",
    "<p>In this exercise, you will analyze a dataset of human body temperatures and employ the concepts of hypothesis testing, confidence intervals, and statistical significance.</p>\n",
    "\n",
    "<p>Answer the following questions <b>in this notebook below and submit to your Github account</b>.</p> \n",
    "\n",
    "<ol>\n",
    "<li>  Is the distribution of body temperatures normal? \n",
    "    <ul>\n",
    "    <li> Although this is not a requirement for the Central Limit Theorem to hold (read the introduction on Wikipedia's page about the CLT carefully: https://en.wikipedia.org/wiki/Central_limit_theorem), it gives us some peace of mind that the population may also be normally distributed if we assume that this sample is representative of the population.\n",
    "    <li> Think about the way you're going to check for the normality of the distribution. Graphical methods are usually used first, but there are also other ways: https://en.wikipedia.org/wiki/Normality_test\n",
    "    </ul>\n",
    "<li>  Is the sample size large? Are the observations independent?\n",
    "    <ul>\n",
    "    <li> Remember that this is a condition for the Central Limit Theorem, and hence the statistical tests we are using, to apply.\n",
    "    </ul>\n",
    "<li>  Is the true population mean really 98.6 degrees F?\n",
    "    <ul>\n",
    "    <li> First, try a bootstrap hypothesis test.\n",
    "    <li> Now, let's try frequentist statistical testing. Would you use a one-sample or two-sample test? Why?\n",
    "    <li> In this situation, is it appropriate to use the $t$ or $z$ statistic? \n",
    "    <li> Now try using the other test. How is the result be different? Why?\n",
    "    </ul>\n",
    "<li>  Draw a small sample of size 10 from the data and repeat both frequentist tests. \n",
    "    <ul>\n",
    "    <li> Which one is the correct one to use? \n",
    "    <li> What do you notice? What does this tell you about the difference in application of the $t$ and $z$ statistic?\n",
    "    </ul>\n",
    "<li>  At what temperature should we consider someone's temperature to be \"abnormal\"?\n",
    "    <ul>\n",
    "    <li> As in the previous example, try calculating everything using the boostrap approach, as well as the frequentist approach.\n",
    "    <li> Start by computing the margin of error and confidence interval. When calculating the confidence interval, keep in mind that you should use the appropriate formula for one draw, and not N draws.\n",
    "    </ul>\n",
    "<li>  Is there a significant difference between males and females in normal temperature?\n",
    "    <ul>\n",
    "    <li> What testing approach did you use and why?\n",
    "    <li> Write a story with your conclusion in the context of the original problem.\n",
    "    </ul>\n",
    "</ol>\n",
    "\n",
    "You can include written notes in notebook cells using Markdown: \n",
    "   - In the control panel at the top, choose Cell > Cell Type > Markdown\n",
    "   - Markdown syntax: http://nestacms.com/docs/creating-content/markdown-cheat-sheet\n",
    "\n",
    "#### Resources\n",
    "\n",
    "+ Information and data sources: http://www.amstat.org/publications/jse/datasets/normtemp.txt, http://www.amstat.org/publications/jse/jse_data_archive.htm\n",
    "+ Markdown syntax: http://nestacms.com/docs/creating-content/markdown-cheat-sheet\n",
    "\n",
    "****"
   ]
  },
  {
   "cell_type": "code",
   "execution_count": 93,
   "metadata": {},
   "outputs": [
    {
     "name": "stdout",
     "output_type": "stream",
     "text": [
      "0    99.3\n",
      "1    98.4\n",
      "2    97.8\n",
      "3    99.2\n",
      "4    98.0\n",
      "Name: temperature, dtype: float64\n"
     ]
    }
   ],
   "source": [
    "#Import tools and data\n",
    "import pandas as pd\n",
    "import numpy as np\n",
    "import scipy.stats\n",
    "import matplotlib.pyplot as plt\n",
    "\n",
    "import plotly\n",
    "import plotly.plotly as py\n",
    "from plotly import figure_factory as ff\n",
    "import plotly.graph_objs as go\n",
    "plotly.tools.set_credentials_file(username='justin107d', api_key='')\n",
    "\n",
    "\n",
    "df = pd.read_csv('data/human_body_temperature.csv')\n",
    "normal_dist= np.random.normal(np.mean(df.temperature), np.std(df.temperature), size=10000\n",
    "\n",
    "print(df.temperature.head())"
   ]
  },
  {
   "cell_type": "code",
   "execution_count": 111,
   "metadata": {},
   "outputs": [
    {
     "data": {
      "image/png": "[encoded data removed]",
      "text/plain": [
       "<matplotlib.figure.Figure at 0x1f7004d6278>"
      ]
     },
     "metadata": {},
     "output_type": "display_data"
    },
    {
     "name": "stdout",
     "output_type": "stream",
     "text": [
      "High five! You successfully sent some data to your account on plotly. View your plot in your browser at https://plot.ly/~justin107d/0 or inside your plot.ly account where it is named 'ks-table'\n"
     ]
    },
    {
     "data": {
      "text/html": [
       "<iframe id=\"igraph\" scrolling=\"no\" style=\"border:none;\" seamless=\"seamless\" src=\"https://plot.ly/~justin107d/0.embed\" height=\"110px\" width=\"100%\"></iframe>"
      ],
      "text/plain": [
       "<plotly.tools.PlotlyDisplay object>"
      ]
     },
     "execution_count": 111,
     "metadata": {},
     "output_type": "execute_result"
    }
   ],
   "source": [
    "#plot histogram of values.\n",
    "plt.hist(df['temperature'], bins=15, normed=True, alpha=.7)\n",
    "plt.title('Average Human Body Temperature')\n",
    "plt.xlabel('Human Temperature')\n",
    "plt.ylabel('Number of values')\n",
    "\n",
    "#plot normal overlay\n",
    "plt.hist(normal_dist,bins=30, alpha=.4, normed=True)\n",
    "plt.legend(['Body Temp','Normal Distribution'])\n",
    "plt.show()\n",
    "\n",
    "#plot ecdf's of both\n",
    "def ecdf(data):\n",
    "    #Compute ECDF for a one-dimensional array of measurements.\n",
    "    n = len(data)\n",
    "    x = np.sort(data)\n",
    "    y = np.arange(1, n+1) / n\n",
    "    return x, y\n",
    "\n",
    "\n",
    "\n",
    "#Test for a normal distribution using the Kolmogorov-Smirnov test.  \n",
    "ks_results = scipy.stats.kstest(df['temperature'], cdf='norm')\n",
    "\n",
    "matrix_ks = [\n",
    "    ['', 'Sample Size', 'Test Statistic', 'p-value'],\n",
    "    ['Temperature', len(df['temperature']) - 1, ks_results[0], ks_results[1]]\n",
    "]\n",
    "isitnorm=pd.DataFrame(matrix_ks)\n",
    "\n",
    "#show table with k-s test values\n",
    "ks_table = ff.create_table(matrix_ks, index=True)\n",
    "py.iplot(ks_table, filename='ks-table')\n",
    "\n"
   ]
  },
  {
   "cell_type": "markdown",
   "metadata": {
    "collapsed": true
   },
   "source": [
    "1.)  To check for normality, I used the Kolmogorov-Smirnov test and layed a normal distribution over in red.  Since the values outputted from the test show that the test statistic is 1 and p-value is 0, it is safe to assume that human body temperatures are normally distributed.\n",
    "\n",
    "2.)  The text book number used determine if a sample size is sufficently large enough to use the Central Limit Theorem is 30 and this data set has 130 samples.  More samples may be preferable depending on if we intend to apply the data for something else, but for this exercise we will say it is large enough.\n",
    "We cannot definitively say that body temperature is completely independent, since we have little information about the actual data itself.  Dependence may come in the form of genetics, age of the group measured, temperature of the lab where the testing was done, local epidemics, time of day, etc.  We will assume for simplicity that the scientist followed standard practices and did their best to control for other effects on the data."
   ]
  },
  {
   "cell_type": "code",
   "execution_count": 137,
   "metadata": {},
   "outputs": [
    {
     "name": "stdout",
     "output_type": "stream",
     "text": [
      "t-statistic:  -5.47592520208\n",
      "p-value:  0.0\n",
      "z-statistic:  -5.47592520208\n",
      "p-value:  0.0\n"
     ]
    },
    {
     "data": {
      "image/png": "[encoded data removed]",
      "text/plain": [
       "<matplotlib.figure.Figure at 0x1f7005327f0>"
      ]
     },
     "metadata": {},
     "output_type": "display_data"
    },
    {
     "name": "stdout",
     "output_type": "stream",
     "text": [
      "mean of data set:  98.24923076923078\n",
      "minimum bootstrap sample:  98.36\n"
     ]
    }
   ],
   "source": [
    "def t_stat(data, mu=98.6):\n",
    "    return (np.mean(data) - mu) / (np.std(data) / np.sqrt(len(data)))\n",
    "\n",
    "def z_stat(data, mu=98.6, sigma=np.std(df.temperature)):\n",
    "    return (np.mean(data) - mu) / (sigma / np.sqrt(len(data)))\n",
    "\n",
    "def draw_bs_reps(data, func, size=1):\n",
    "    bs_replicates=np.empty(size)\n",
    "    for i in range(size):\n",
    "        bs_replicates[i]=func(np.random.choice(data,size=len(data)))\n",
    "        \n",
    "    return bs_replicates\n",
    "\n",
    "\n",
    "#t-statistic testing\n",
    "translated_mean= df.temperature - np.mean(df.temperature) + 98.6\n",
    "bs_ts=draw_bs_reps(translated_mean,t_stat,10000)\n",
    "p_t = np.sum(bs_ts <= t_stat(df.temperature)) / 10000\n",
    "t_num=t_stat(df.temperature, 98.6)\n",
    "print('t-statistic: ',t_num)\n",
    "print('p-value: ',p_t)\n",
    "\n",
    "#z-statistic testing\n",
    "bs_zs=draw_bs_reps(translated_mean,z_stat,10000)\n",
    "p_z = np.sum(bs_zs <= z_stat(df.temperature)) / 10000\n",
    "z_num=z_stat(df.temperature)\n",
    "print('z-statistic: ',z_num)\n",
    "print('p-value: ',p_z)\n",
    "\n",
    "#plot bootstrap samples\n",
    "bs_mean=draw_bs_reps(translated_mean, np.mean, 10000)\n",
    "plt.hist(bs_mean, bins=30)\n",
    "plt.title('Bootstrapped Human Body Temperature')\n",
    "plt.xlabel('Human Temperature')\n",
    "plt.ylabel('Number of values')\n",
    "plt.axvline(np.mean(df.temperature), color='r', linestyle='dashed', linewidth=2)\n",
    "plt.show()\n",
    "print('mean of data set: ',np.mean(df.temperature))\n",
    "print('minimum bootstrap sample: ',bs_mean.min())\n"
   ]
  },
  {
   "cell_type": "markdown",
   "metadata": {},
   "source": [
    "3.)  The one sample test was used because only one set of data was given. A t-statistic is more appropiate here since we are not given the standard deviation of the population, therefore the t and z statistics are identical.  The p-value for this test came back at 0 which means that the hypothesis that 98.6 was the true mean body temperature is highly unlikely.  In the 10,000 trials run, not one of them reached the mean from the experiment.  The minimum value from the bootstrap was 98.36.  Graphically you can see how far the mean from the dataset labelled by the red dashed line differed from the bootstrap. "
   ]
  },
  {
   "cell_type": "code",
   "execution_count": 132,
   "metadata": {},
   "outputs": [
    {
     "name": "stdout",
     "output_type": "stream",
     "text": [
      "t-statistic for small sample:  -1.22570282607\n",
      "p-value:  0.5446\n",
      "\n",
      "z-statistic for small sample:  -1.38552484889\n",
      "p-value:  0.4907\n"
     ]
    }
   ],
   "source": [
    "#take sample and translate\n",
    "sample=np.random.choice(df.temperature, size=10)\n",
    "translate_sample=sample-np.mean(sample)+98.6\n",
    "\n",
    "#t-testing\n",
    "bs_t_small=draw_bs_reps(sample,t_stat,size=10000)\n",
    "t_num_small=t_stat(sample)\n",
    "p_t_small = np.sum(np.abs(bs_t_small) >= np.abs(t_stat(sample))) / len(bs_t_small)\n",
    "print('t-statistic for small sample: ',t_num_small)\n",
    "print('p-value: ',p_t_small)\n",
    "print('')\n",
    "\n",
    "#z-testing\n",
    "bs_z_small=draw_bs_reps(sample,z_stat,size=10000)\n",
    "z_num_small=z_stat(sample)\n",
    "p_z_small= np.sum(np.abs(bs_z_small) >= np.abs(z_stat(sample))) / len(bs_z_small)\n",
    "print('z-statistic for small sample: ',z_num_small)\n",
    "print('p-value: ',p_z_small)"
   ]
  },
  {
   "cell_type": "markdown",
   "metadata": {},
   "source": [
    "4.)  The t and z statistics in this exercise are both different from each other and from the bootstrapping computed in 3.).  When reducing the sample size from the original data set, results have the ability to vary widely as there is a higher chance that the sample will not be representitive of the overall set."
   ]
  },
  {
   "cell_type": "code",
   "execution_count": 136,
   "metadata": {},
   "outputs": [
    {
     "name": "stdout",
     "output_type": "stream",
     "text": [
      "margin of error:  0.0432382149193\n",
      "50% of the data fall between:  97.8  -  98.7\n"
     ]
    }
   ],
   "source": [
    "#finding errors\n",
    "#abnormal is considered outside of the 25th and 75th percentile range.  z=.675\n",
    "stand_err=np.std(df.temperature)/np.sqrt(len(df.temperature))\n",
    "margin_err = .675 * stand_err\n",
    "print('margin of error: ', margin_err)\n",
    "\n",
    "# 50% Confidence Interval on the mean \n",
    "confidence_i = np.percentile(df['temperature'], [25, 75])\n",
    "print('50% of the data fall between: ', confidence_i[0], ' - ', confidence_i[1])\n",
    "\n"
   ]
  },
  {
   "cell_type": "markdown",
   "metadata": {},
   "source": [
    "5.)  A little research showed that some in the medical community consider something abnormal if it falls outside of the 25th to 75th percentile range.  Using this standard, the upperbound to be considered normal is 98.7 and the lower bound is 97.8."
   ]
  },
  {
   "cell_type": "code",
   "execution_count": 141,
   "metadata": {},
   "outputs": [
    {
     "name": "stdout",
     "output_type": "stream",
     "text": [
      "observed difference: 0.289230769230727\n",
      "p-value: 0.0239\n"
     ]
    }
   ],
   "source": [
    "# Separate observations by gender\n",
    "females = df[df['gender'] == 'F']\n",
    "males = df[df['gender'] == 'M']\n",
    "\n",
    "# find difference in means\n",
    "diff_means = np.mean(females['temperature'])-np.mean(males['temperature'])\n",
    "\n",
    "# Draw permutation replicates\n",
    "perm_replicates = np.empty(10000)\n",
    "for i in range(len(perm_replicates)): \n",
    "    both = np.concatenate((females['temperature'], males['temperature']))\n",
    "    both_perm = np.random.permutation(both)\n",
    "    perm_females = both_perm[:len(females)]\n",
    "    perm_males = both_perm[len(females):]\n",
    "    perm_replicates[i] = np.mean(perm_females)-np.mean(perm_males)\n",
    "\n",
    "# Compute the p-value\n",
    "p_both = np.sum(abs(perm_replicates) >= abs(diff_means)) / len(perm_replicates)\n",
    "print('observed difference:',diff_means )\n",
    "print('p-value:',p_both)"
   ]
  },
  {
   "cell_type": "markdown",
   "metadata": {},
   "source": [
    "6.)  Since the p-value is below the common threshold of 0.05, we can reject the null hypothesis and state that there is a significant difference in body temperature between males and females."
   ]
  },
  {
   "cell_type": "code",
   "execution_count": null,
   "metadata": {
    "collapsed": true
   },
   "outputs": [],
   "source": []
  }
 ],
 "metadata": {
  "kernelspec": {
   "display_name": "Python 3",
   "language": "python",
   "name": "python3"
  },
  "language_info": {
   "codemirror_mode": {
    "name": "ipython",
    "version": 3
   },
   "file_extension": ".py",
   "mimetype": "text/x-python",
   "name": "python",
   "nbconvert_exporter": "python",
   "pygments_lexer": "ipython3",
   "version": "3.6.3"
  }
 },
 "nbformat": 4,
 "nbformat_minor": 1
}
